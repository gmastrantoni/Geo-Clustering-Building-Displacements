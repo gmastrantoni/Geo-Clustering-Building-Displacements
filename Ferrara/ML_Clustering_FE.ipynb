{
 "cells": [
  {
   "cell_type": "code",
   "execution_count": 1,
   "metadata": {},
   "outputs": [],
   "source": [
    "import pandas as pd\n",
    "import geopandas as gpd\n",
    "import numpy as np\n",
    "from scipy.stats import pearsonr, spearmanr, kruskal\n",
    "import statsmodels.api as sm\n",
    "import matplotlib\n",
    "import matplotlib.pyplot as plt\n",
    "import seaborn as sns\n",
    "import os\n",
    "from sklearn.preprocessing import LabelEncoder\n"
   ]
  },
  {
   "cell_type": "code",
   "execution_count": 2,
   "metadata": {},
   "outputs": [],
   "source": [
    "# Set main directory\n",
    "os.chdir(\"/Users/giandomenico/Documents/SAPIENZA/AR/MiC/Ferrara\")\n",
    "# set plotting settings\n",
    "sns.set_theme(context='paper', style=\"whitegrid\", palette=\"husl\", font='arial', font_scale=1.2)\n",
    "\n",
    "plt.rcParams.update({\n",
    "    'xtick.labelsize': 11,\n",
    "    'ytick.labelsize': 11,\n",
    "    'axes.labelsize': 12,\n",
    "    'axes.titlesize': 14,\n",
    "    'legend.fontsize': 11\n",
    "    })\n"
   ]
  },
  {
   "cell_type": "code",
   "execution_count": 3,
   "metadata": {},
   "outputs": [
    {
     "data": {
      "text/plain": [
       "Index(['codice', 'nome', 'tipo_tutel', 'tipo_propr', 'categoria', 'eta',\n",
       "       'eta_attest', 'stato', 'lon', 'lat', 'x', 'y', 'etichetta',\n",
       "       'Interventi', 'Data inizi', 'Data fine', 'Ind_danno', 'note', 'Descr',\n",
       "       'ASC_VEL_median', 'ASC_VEL_stdev', 'ASC_VEL_min', 'ASC_VEL_max',\n",
       "       'ASC_CUM_median', 'ASC_CUM_stdev', 'ASC_CUM_min', 'ASC_CUM_max',\n",
       "       'DESC_VEL_median', 'DESC_VEL_stdev', 'DESC_VEL_min', 'DESC_VEL_max',\n",
       "       'DESC_CUM_median', 'DESC_CUM_stdev', 'DESC_CUM_min', 'DESC_CUM_max',\n",
       "       'UD_VEL_median', 'UD_VEL_stdev', 'UD_VEL_min', 'UD_VEL_max',\n",
       "       'geometry'],\n",
       "      dtype='object')"
      ]
     },
     "execution_count": 3,
     "metadata": {},
     "output_type": "execute_result"
    }
   ],
   "source": [
    "# Load datasets\n",
    "filepath = 'PS_vs_Geo/buildings_bbcc_Ferrara_def3857_intersect_sampled.gpkg'\n",
    "data = gpd.read_file(filepath)\n",
    "\n",
    "\n",
    "\n",
    "data.columns"
   ]
  },
  {
   "cell_type": "code",
   "execution_count": 4,
   "metadata": {},
   "outputs": [
    {
     "name": "stdout",
     "output_type": "stream",
     "text": [
      "<class 'geopandas.geodataframe.GeoDataFrame'>\n",
      "Int64Index: 664 entries, 0 to 698\n",
      "Data columns (total 23 columns):\n",
      " #   Column           Non-Null Count  Dtype   \n",
      "---  ------           --------------  -----   \n",
      " 0   codice           664 non-null    object  \n",
      " 1   Descr            664 non-null    object  \n",
      " 2   ASC_VEL_median   664 non-null    float64 \n",
      " 3   ASC_VEL_stdev    664 non-null    float64 \n",
      " 4   ASC_VEL_min      664 non-null    float64 \n",
      " 5   ASC_VEL_max      664 non-null    float64 \n",
      " 6   ASC_CUM_median   664 non-null    float64 \n",
      " 7   ASC_CUM_stdev    664 non-null    float64 \n",
      " 8   ASC_CUM_min      664 non-null    float64 \n",
      " 9   ASC_CUM_max      664 non-null    float64 \n",
      " 10  DESC_VEL_median  664 non-null    float64 \n",
      " 11  DESC_VEL_stdev   664 non-null    float64 \n",
      " 12  DESC_VEL_min     664 non-null    float64 \n",
      " 13  DESC_VEL_max     664 non-null    float64 \n",
      " 14  DESC_CUM_median  664 non-null    float64 \n",
      " 15  DESC_CUM_stdev   664 non-null    float64 \n",
      " 16  DESC_CUM_min     664 non-null    float64 \n",
      " 17  DESC_CUM_max     664 non-null    float64 \n",
      " 18  UD_VEL_median    664 non-null    float64 \n",
      " 19  UD_VEL_stdev     664 non-null    float64 \n",
      " 20  UD_VEL_min       664 non-null    float64 \n",
      " 21  UD_VEL_max       664 non-null    float64 \n",
      " 22  geometry         664 non-null    geometry\n",
      "dtypes: float64(20), geometry(1), object(2)\n",
      "memory usage: 124.5+ KB\n"
     ]
    }
   ],
   "source": [
    "# select important columns only\n",
    "cols_to_keep = ['codice', 'Descr', 'ASC_VEL_median', 'ASC_VEL_stdev', 'ASC_VEL_min', 'ASC_VEL_max',\n",
    "       'ASC_CUM_median', 'ASC_CUM_stdev', 'ASC_CUM_min', 'ASC_CUM_max',\n",
    "       'DESC_VEL_median', 'DESC_VEL_stdev', 'DESC_VEL_min', 'DESC_VEL_max',\n",
    "       'DESC_CUM_median', 'DESC_CUM_stdev', 'DESC_CUM_min', 'DESC_CUM_max',\n",
    "       'UD_VEL_median', 'UD_VEL_stdev', 'UD_VEL_min', 'UD_VEL_max',\n",
    "       'geometry']\n",
    "\n",
    "data_clean = data[cols_to_keep]\n",
    "\n",
    "# drop nan\n",
    "data_clean = data_clean.dropna()\n",
    "\n",
    "data_clean.info()"
   ]
  },
  {
   "cell_type": "code",
   "execution_count": 5,
   "metadata": {},
   "outputs": [
    {
     "data": {
      "text/plain": [
       "argille e limi di deposito interalveo              255\n",
       "Limi con sabbie di  argine e venaglio di rotta     244\n",
       "Sabbie di riempimento di canale fluviale           115\n",
       "Sabbie limose di riempimento di canale fluviale     39\n",
       "Sabbie e limi di riempimento di canale fluviale      7\n",
       "Lmi con sabbie di argine e venaglio di rotta         2\n",
       "Limi con sabbie di argine venaglio da rotta          1\n",
       "Argille e limi di deposito interalvei                1\n",
       "Name: Descr, dtype: int64"
      ]
     },
     "execution_count": 5,
     "metadata": {},
     "output_type": "execute_result"
    }
   ],
   "source": [
    "data_clean.Descr.value_counts()"
   ]
  },
  {
   "cell_type": "markdown",
   "metadata": {},
   "source": [
    "### Map lithology values"
   ]
  },
  {
   "cell_type": "code",
   "execution_count": 6,
   "metadata": {},
   "outputs": [],
   "source": [
    "# Define the mapping dictionary\n",
    "mapping = {\n",
    "    'argille e limi di deposito interalveo': 'Floodplain deposits',\n",
    "    'Argille e limi di deposito interalvei': 'Floodplain deposits',\n",
    "    'Limi con sabbie di  argine e venaglio di rotta': 'Levee and crevasse splay deposits',\n",
    "    'Lmi con sabbie di argine e venaglio di rotta': 'Levee and crevasse splay deposits',\n",
    "    'Limi con sabbie di argine venaglio da rotta': 'Levee and crevasse splay deposits',\n",
    "    'Sabbie di riempimento di canale fluviale': 'Channel fill deposits',\n",
    "    'Sabbie limose di riempimento di canale fluviale': 'Channel fill deposits',\n",
    "    'Sabbie e limi di riempimento di canale fluviale': 'Channel fill deposits'\n",
    "}"
   ]
  },
  {
   "cell_type": "code",
   "execution_count": 7,
   "metadata": {},
   "outputs": [
    {
     "name": "stdout",
     "output_type": "stream",
     "text": [
      "Floodplain deposits                  256\n",
      "Levee and crevasse splay deposits    247\n",
      "Channel fill deposits                161\n",
      "Name: Lithology, dtype: int64\n"
     ]
    }
   ],
   "source": [
    "# Apply the mapping to the column\n",
    "data_clean['Lithology'] = data_clean['Descr'].map(mapping)\n",
    "\n",
    "# Print value counts of the new column to verify the result\n",
    "print(data_clean['Lithology'].value_counts())"
   ]
  },
  {
   "cell_type": "code",
   "execution_count": 8,
   "metadata": {},
   "outputs": [
    {
     "name": "stdout",
     "output_type": "stream",
     "text": [
      "1    256\n",
      "2    247\n",
      "0    161\n",
      "Name: Lithology_enc, dtype: int64\n"
     ]
    }
   ],
   "source": [
    "# Create an instance of LabelEncoder\n",
    "encoder = LabelEncoder()\n",
    "\n",
    "# Fit the encoder and transform the 'Lithology' column to get encoded labels\n",
    "data_clean['Lithology_enc'] = encoder.fit_transform(data_clean['Lithology'])\n",
    "\n",
    "# Print the modified DataFrame\n",
    "print(data_clean.Lithology_enc.value_counts())"
   ]
  },
  {
   "cell_type": "markdown",
   "metadata": {},
   "source": [
    "# Hypotesis Testing"
   ]
  },
  {
   "cell_type": "code",
   "execution_count": 9,
   "metadata": {},
   "outputs": [
    {
     "name": "stdout",
     "output_type": "stream",
     "text": [
      "PearsonRResult(statistic=0.01749921355760283, pvalue=0.6526325374801805)\n",
      "Kruskal-Wallis test (ASC_VEL_median): Stat=43.87831155632179, P-value=2.9644607728520575e-10\n",
      "Kruskal-Wallis test (DESC_VEL_median): Stat=80.22816232617421, P-value=3.790320237114629e-18\n",
      "Kruskal-Wallis test (UD_VEL_median): Stat=76.98331173290669, P-value=1.9199338156797712e-17\n",
      "Kruskal-Wallis test (ASC_CUM_median): Stat=31.97898329928012, P-value=1.1372396895679716e-07\n",
      "Kruskal-Wallis test (DESC_CUM_median): Stat=36.288626113001946, P-value=1.3183325092432723e-08\n"
     ]
    }
   ],
   "source": [
    "# ASC_VEL, DESC_VEL, ASC_CUM, DESC_CUM, UD_VEL\n",
    "# median, min, max, stdv\n",
    "\n",
    "# Calculate the mean, minimum, and maximum values for each group\n",
    "asc_velocity_stats = data_clean.groupby('Lithology')['ASC_VEL_median'].agg(['median', 'min', 'max', 'std']).reset_index()\n",
    "desc_velocity_stats = data_clean.groupby('Lithology')['DESC_VEL_median'].agg(['median', 'min', 'max', 'std']).reset_index()\n",
    "ud_disp_stats = data_clean.groupby('Lithology')['UD_VEL_median'].agg(['median', 'min', 'max', 'std']).reset_index()\n",
    "\n",
    "# Calculate the correlation between displacement velocity and other geological attributes\n",
    "correlation = pearsonr(data_clean['Lithology_enc'], data_clean['UD_VEL_median'])\n",
    "print(correlation)\n",
    "\n",
    "ordinal = ['ASC_VEL_median', 'DESC_VEL_median', 'UD_VEL_median',\n",
    "           'ASC_CUM_median', 'DESC_CUM_median']\n",
    "nominal = 'Lithology'\n",
    "# ANOVA/Kruskal-Wallis test for deformation rates across different geological types\n",
    "for v in ordinal:\n",
    "    groups = [data_clean[v][data_clean[nominal] == gt] for gt in data_clean[nominal].unique()]\n",
    "    stat, p_value = kruskal(*groups)\n",
    "    print(f'Kruskal-Wallis test ({v}): Stat={stat}, P-value={p_value}')"
   ]
  },
  {
   "cell_type": "code",
   "execution_count": 11,
   "metadata": {},
   "outputs": [
    {
     "data": {
      "image/png": "[encoded data removed]",
      "text/plain": [
       "<Figure size 800x400 with 2 Axes>"
      ]
     },
     "metadata": {},
     "output_type": "display_data"
    }
   ],
   "source": [
    "# Plot the scatter points with error bars\n",
    "fig, (ax1, ax2) = plt.subplots(1, 2, figsize=(8, 4))\n",
    "\n",
    "ax1.errorbar(asc_velocity_stats['Lithology'], asc_velocity_stats['median'], yerr=asc_velocity_stats['std'], fmt='o', capsize=5)\n",
    "ax2.errorbar(ud_disp_stats['Lithology'], ud_disp_stats['median'], yerr=ud_disp_stats['std'], fmt='o', capsize=5)\n",
    "\n",
    "ax1.set_xlabel('Lithology')\n",
    "ax1.set_ylabel('Mean velocity (mm/y)')\n",
    "ax2.set_xlabel('Lithology')\n",
    "ax2.set_ylabel('Total Vertical Displacement (mm)')\n",
    "\n",
    "for tick in ax1.get_xticklabels():\n",
    "    tick.set_rotation(15)\n",
    "for tick in ax2.get_xticklabels():\n",
    "    tick.set_rotation(15)\n",
    "# Adjust the spacing between subplots\n",
    "plt.subplots_adjust(wspace=0.5)\n",
    "plt.tight_layout()\n",
    "\n",
    "plt.show()"
   ]
  },
  {
   "cell_type": "code",
   "execution_count": null,
   "metadata": {},
   "outputs": [],
   "source": []
  },
  {
   "cell_type": "code",
   "execution_count": null,
   "metadata": {},
   "outputs": [],
   "source": []
  }
 ],
 "metadata": {
  "kernelspec": {
   "display_name": "geospatial",
   "language": "python",
   "name": "python3"
  },
  "language_info": {
   "codemirror_mode": {
    "name": "ipython",
    "version": 3
   },
   "file_extension": ".py",
   "mimetype": "text/x-python",
   "name": "python",
   "nbconvert_exporter": "python",
   "pygments_lexer": "ipython3",
   "version": "3.11.8"
  }
 },
 "nbformat": 4,
 "nbformat_minor": 2
}
